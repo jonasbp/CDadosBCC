{
 "cells": [
  {
   "cell_type": "code",
   "execution_count": 220,
   "metadata": {},
   "outputs": [
    {
     "name": "stdout",
     "output_type": "stream",
     "text": [
      "198.7495\n",
      "5264.321749749999\n",
      "72.55564588472767\n"
     ]
    }
   ],
   "source": [
    "p_cinema = 0.65\n",
    "gasto_cinema = 68\n",
    "\n",
    "p_teatro = 1 - p_cinema\n",
    "gasto_teatro = 194\n",
    "\n",
    "p_jantar_dado_cinema = 0.76\n",
    "gasto_cinema_e_jantar = 133\n",
    "p_nao_jantar_dado_cinema = 1 - p_jantar_dado_cinema\n",
    "\n",
    "p_jantar_dado_teatro = 0.45\n",
    "gasto_teatro_e_jantar = 133\n",
    "p_nao_jantar_dado_teatro = 1 - p_jantar_dado_teatro\n",
    "\n",
    "#Fazendo a esperanca com esses valores (GASTO MÉDIO)\n",
    "# INTERCE P CINEMA - PJANTARCINEMA -. PCINEMA - PNAOJANTARCINEMA\n",
    "\n",
    "esperanca = ((p_cinema * p_jantar_dado_cinema) * (gasto_cinema + gasto_cinema_e_jantar)) + ((p_cinema * p_nao_jantar_dado_cinema) * (gasto_cinema)) + ((p_teatro * p_jantar_dado_teatro) * (gasto_teatro + gasto_teatro_e_jantar)) + ((p_teatro * p_nao_jantar_dado_teatro) * (gasto_teatro))\n",
    "\n",
    "variancia = ((p_cinema * p_jantar_dado_cinema) * (((gasto_cinema + gasto_cinema_e_jantar) - esperanca) ** 2)) + ((p_cinema * p_nao_jantar_dado_cinema) * ((gasto_cinema - esperanca) ** 2) +\n",
    "((p_teatro * p_jantar_dado_teatro) * (((gasto_teatro + gasto_teatro_e_jantar) - esperanca) ** 2))) + ((p_teatro * p_nao_jantar_dado_teatro) * ((gasto_teatro - esperanca) ** 2))\n",
    "\n",
    "desvio_padrao = variancia ** 0.5\n",
    "print(esperanca)\n",
    "print(variancia)\n",
    "print(desvio_padrao)\n"
   ]
  },
  {
   "cell_type": "code",
   "execution_count": 221,
   "metadata": {},
   "outputs": [
    {
     "name": "stdout",
     "output_type": "stream",
     "text": [
      "182.10457\n"
     ]
    }
   ],
   "source": [
    "aumento = 13\n",
    "reducao_porcent = 0.14\n",
    "esperanca_nova = (esperanca + aumento) - ((esperanca + aumento)* reducao_porcent)\n",
    "print(esperanca_nova)"
   ]
  },
  {
   "cell_type": "code",
   "execution_count": 223,
   "metadata": {},
   "outputs": [
    {
     "name": "stdout",
     "output_type": "stream",
     "text": [
      "69.66\n",
      "184.04\n",
      "178.01999999999998\n",
      "3893.4923661150997\n",
      "62.3978554608658\n"
     ]
    }
   ],
   "source": [
    "gasto_cinema_nova = (gasto_cinema + aumento) - ((gasto_cinema + aumento) * reducao_porcent)\n",
    "print(gasto_cinema_nova)\n",
    "gasto_cinema_e_jantar_nova = (gasto_cinema + gasto_cinema_e_jantar + aumento) - ((gasto_cinema + gasto_cinema_e_jantar + aumento) * reducao_porcent)\n",
    "print(gasto_cinema_e_jantar_nova)\n",
    "\n",
    "gasto_teatro_nova = (gasto_teatro + aumento) - ((gasto_teatro + aumento) * reducao_porcent)\n",
    "print(gasto_teatro_nova)\n",
    "gasto_teatro_e_jantar_nova = (gasto_teatro + gasto_teatro_e_jantar + aumento) - ((gasto_teatro + gasto_teatro_e_jantar + aumento) * reducao_porcent)\n",
    "\n",
    "variancia = ((p_cinema * p_jantar_dado_cinema) * (((gasto_cinema_e_jantar_nova) - esperanca_nova) ** 2)) + ((p_cinema * p_nao_jantar_dado_cinema) * ((gasto_cinema_nova - esperanca_nova) ** 2) +\n",
    "((p_teatro * p_jantar_dado_teatro) * (((gasto_teatro_e_jantar_nova) - esperanca_nova) ** 2))) + ((p_teatro * p_nao_jantar_dado_teatro) * ((gasto_teatro_nova - esperanca_nova) ** 2))\n",
    "\n",
    "print(variancia)\n",
    "\n",
    "desvio_padrao_novo = variancia **0.5\n",
    "\n",
    "print(desvio_padrao_novo)\n"
   ]
  }
 ],
 "metadata": {
  "kernelspec": {
   "display_name": ".venv",
   "language": "python",
   "name": "python3"
  },
  "language_info": {
   "codemirror_mode": {
    "name": "ipython",
    "version": 3
   },
   "file_extension": ".py",
   "mimetype": "text/x-python",
   "name": "python",
   "nbconvert_exporter": "python",
   "pygments_lexer": "ipython3",
   "version": "3.10.9"
  },
  "orig_nbformat": 4
 },
 "nbformat": 4,
 "nbformat_minor": 2
}
