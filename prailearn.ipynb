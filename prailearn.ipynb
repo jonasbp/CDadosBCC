{
 "cells": [
  {
   "cell_type": "markdown",
   "metadata": {},
   "source": [
    "**EXERCÍCIO 1**"
   ]
  },
  {
   "cell_type": "code",
   "execution_count": 341,
   "metadata": {},
   "outputs": [
    {
     "name": "stdout",
     "output_type": "stream",
     "text": [
      "194.5625\n",
      "3677.746093750001\n",
      "60.64442343488807\n"
     ]
    }
   ],
   "source": [
    "p_cinema = 0.75\n",
    "gasto_cinema = 72\n",
    "\n",
    "p_teatro = 1 - p_cinema\n",
    "gasto_teatro = 196\n",
    "\n",
    "p_jantar_dado_cinema = 0.83\n",
    "gasto_cinema_e_jantar = 125\n",
    "p_nao_jantar_dado_cinema = 1 - p_jantar_dado_cinema\n",
    "\n",
    "p_jantar_dado_teatro = 0.44\n",
    "gasto_teatro_e_jantar = 125\n",
    "p_nao_jantar_dado_teatro = 1 - p_jantar_dado_teatro\n",
    "\n",
    "#Fazendo a esperanca com esses valores (GASTO MÉDIO)\n",
    "# INTERCE P CINEMA - PJANTARCINEMA -. PCINEMA - PNAOJANTARCINEMA\n",
    "\n",
    "esperanca = ((p_cinema * p_jantar_dado_cinema) * (gasto_cinema + gasto_cinema_e_jantar)) + ((p_cinema * p_nao_jantar_dado_cinema) * (gasto_cinema)) + ((p_teatro * p_jantar_dado_teatro) * (gasto_teatro + gasto_teatro_e_jantar)) + ((p_teatro * p_nao_jantar_dado_teatro) * (gasto_teatro))\n",
    "\n",
    "variancia = ((p_cinema * p_jantar_dado_cinema) * (((gasto_cinema + gasto_cinema_e_jantar) - esperanca) ** 2)) + ((p_cinema * p_nao_jantar_dado_cinema) * ((gasto_cinema - esperanca) ** 2) +\n",
    "((p_teatro * p_jantar_dado_teatro) * (((gasto_teatro + gasto_teatro_e_jantar) - esperanca) ** 2))) + ((p_teatro * p_nao_jantar_dado_teatro) * ((gasto_teatro - esperanca) ** 2))\n",
    "\n",
    "desvio_padrao = variancia ** 0.5\n",
    "print(esperanca)\n",
    "print(variancia)\n",
    "print(desvio_padrao)\n"
   ]
  },
  {
   "cell_type": "code",
   "execution_count": 342,
   "metadata": {},
   "outputs": [
    {
     "name": "stdout",
     "output_type": "stream",
     "text": [
      "170.1525\n"
     ]
    }
   ],
   "source": [
    "aumento = 8\n",
    "reducao_porcent = 0.16\n",
    "esperanca_nova = (esperanca + aumento) - ((esperanca + aumento)* reducao_porcent)\n",
    "print(esperanca_nova)"
   ]
  },
  {
   "cell_type": "code",
   "execution_count": 343,
   "metadata": {},
   "outputs": [
    {
     "name": "stdout",
     "output_type": "stream",
     "text": [
      "67.2\n",
      "172.2\n",
      "171.36\n",
      "2595.0176437500004\n",
      "50.94131568530597\n"
     ]
    }
   ],
   "source": [
    "gasto_cinema_nova = (gasto_cinema + aumento) - ((gasto_cinema + aumento) * reducao_porcent)\n",
    "print(gasto_cinema_nova)\n",
    "gasto_cinema_e_jantar_nova = (gasto_cinema + gasto_cinema_e_jantar + aumento) - ((gasto_cinema + gasto_cinema_e_jantar + aumento) * reducao_porcent)\n",
    "print(gasto_cinema_e_jantar_nova)\n",
    "\n",
    "gasto_teatro_nova = (gasto_teatro + aumento) - ((gasto_teatro + aumento) * reducao_porcent)\n",
    "print(gasto_teatro_nova)\n",
    "gasto_teatro_e_jantar_nova = (gasto_teatro + gasto_teatro_e_jantar + aumento) - ((gasto_teatro + gasto_teatro_e_jantar + aumento) * reducao_porcent)\n",
    "\n",
    "variancia = ((p_cinema * p_jantar_dado_cinema) * (((gasto_cinema_e_jantar_nova) - esperanca_nova) ** 2)) + ((p_cinema * p_nao_jantar_dado_cinema) * ((gasto_cinema_nova - esperanca_nova) ** 2) +\n",
    "((p_teatro * p_jantar_dado_teatro) * (((gasto_teatro_e_jantar_nova) - esperanca_nova) ** 2))) + ((p_teatro * p_nao_jantar_dado_teatro) * ((gasto_teatro_nova - esperanca_nova) ** 2))\n",
    "\n",
    "print(variancia)\n",
    "\n",
    "desvio_padrao_novo = variancia **0.5\n",
    "\n",
    "print(desvio_padrao_novo)\n"
   ]
  },
  {
   "cell_type": "markdown",
   "metadata": {},
   "source": [
    "**EXERCÍCIO 2 - extraído de Montgomery e Runger**"
   ]
  },
  {
   "cell_type": "code",
   "execution_count": 344,
   "metadata": {},
   "outputs": [],
   "source": [
    "primeiro = 0.88\n",
    "segundo = 0.93\n",
    "terceiro = 0.97"
   ]
  },
  {
   "cell_type": "markdown",
   "metadata": {},
   "source": [
    "a. Qual a probabilidade de que nenhum dos componentes satisfaça as especificações?\n",
    "\n"
   ]
  },
  {
   "cell_type": "code",
   "execution_count": 345,
   "metadata": {},
   "outputs": [
    {
     "name": "stdout",
     "output_type": "stream",
     "text": [
      "0.00025200000000000005\n"
     ]
    }
   ],
   "source": [
    "p1_nao_funciona = 1 - primeiro\n",
    "p2_nao_funciona = 1 - segundo\n",
    "p3_nao_funciona = 1 - terceiro\n",
    "\n",
    "nao_funcionar = p1_nao_funciona * p2_nao_funciona * p3_nao_funciona\n",
    "print(nao_funcionar)"
   ]
  },
  {
   "cell_type": "markdown",
   "metadata": {},
   "source": [
    "b. Qual a probabilidade de que exatamente um componente satisfaça as especificações?\n",
    "\n"
   ]
  },
  {
   "cell_type": "code",
   "execution_count": 346,
   "metadata": {},
   "outputs": [
    {
     "name": "stdout",
     "output_type": "stream",
     "text": [
      "0.013343999999999998\n"
     ]
    }
   ],
   "source": [
    "p1_nao_funciona = 1 - primeiro\n",
    "p2_nao_funciona = 1 - segundo\n",
    "p3_nao_funciona = 1 - terceiro\n",
    "\n",
    "so_p1_funciona = primeiro * p2_nao_funciona * p3_nao_funciona\n",
    "so_p2_funciona = segundo * p1_nao_funciona * p3_nao_funciona\n",
    "so_p3_funciona = terceiro * p1_nao_funciona * p2_nao_funciona\n",
    "\n",
    "um_funciona = so_p1_funciona + so_p2_funciona + so_p3_funciona\n",
    "print(um_funciona)\n"
   ]
  },
  {
   "cell_type": "markdown",
   "metadata": {},
   "source": [
    "c. Qual a probabilidade de que exatamente dois componentes satisfaçam as especificações?"
   ]
  },
  {
   "cell_type": "code",
   "execution_count": 347,
   "metadata": {},
   "outputs": [
    {
     "name": "stdout",
     "output_type": "stream",
     "text": [
      "0.192556\n"
     ]
    }
   ],
   "source": [
    "so_p1_p2_funciona = primeiro * segundo * p3_nao_funciona\n",
    "so_p2_p3_funciona = segundo * terceiro * p1_nao_funciona\n",
    "so_p1_p3_funciona = primeiro * terceiro * p2_nao_funciona\n",
    "\n",
    "dois_funcionam = so_p1_p2_funciona + so_p2_p3_funciona + so_p1_p3_funciona\n",
    "print(dois_funcionam)"
   ]
  },
  {
   "cell_type": "markdown",
   "metadata": {},
   "source": [
    "Todos funcionam"
   ]
  },
  {
   "cell_type": "code",
   "execution_count": 348,
   "metadata": {},
   "outputs": [
    {
     "name": "stdout",
     "output_type": "stream",
     "text": [
      "0.793848\n"
     ]
    }
   ],
   "source": [
    "todos_funcionam = primeiro * segundo * terceiro\n",
    "print(todos_funcionam)"
   ]
  },
  {
   "cell_type": "markdown",
   "metadata": {},
   "source": [
    "EXERCÍCIO 3 - extraído de Montgomery e Runger"
   ]
  },
  {
   "cell_type": "code",
   "execution_count": 352,
   "metadata": {},
   "outputs": [
    {
     "name": "stdout",
     "output_type": "stream",
     "text": [
      "0.00046\n",
      "0.99954\n"
     ]
    }
   ],
   "source": [
    "p_errado = 0.00046\n",
    "p_certo = 1 - p_errado\n",
    "\n",
    "print(p_errado)\n",
    "print(p_certo)"
   ]
  },
  {
   "cell_type": "markdown",
   "metadata": {},
   "source": [
    "a. Qual a média de computadores que votam errado?\n",
    "\n"
   ]
  },
  {
   "cell_type": "code",
   "execution_count": 353,
   "metadata": {},
   "outputs": [
    {
     "name": "stdout",
     "output_type": "stream",
     "text": [
      "0.00184\n"
     ]
    }
   ],
   "source": [
    "mu = p_errado * 4\n",
    "print(mu)"
   ]
  },
  {
   "cell_type": "markdown",
   "metadata": {},
   "source": [
    "Qual o desvio padrão?"
   ]
  },
  {
   "cell_type": "code",
   "execution_count": 354,
   "metadata": {},
   "outputs": [
    {
     "name": "stdout",
     "output_type": "stream",
     "text": [
      "0.04288535414334362\n"
     ]
    }
   ],
   "source": [
    "import math\n",
    "\n",
    "desvio_padrao = math.sqrt(4 * p_errado * p_certo)\n",
    "print(desvio_padrao)"
   ]
  },
  {
   "cell_type": "markdown",
   "metadata": {},
   "source": [
    "AULA 10"
   ]
  },
  {
   "cell_type": "code",
   "execution_count": 21,
   "metadata": {},
   "outputs": [],
   "source": [
    "import scipy.stats as st\n",
    "import numpy as np"
   ]
  },
  {
   "cell_type": "code",
   "execution_count": 7,
   "metadata": {},
   "outputs": [
    {
     "data": {
      "text/plain": [
       "0.15860020201571626"
      ]
     },
     "execution_count": 7,
     "metadata": {},
     "output_type": "execute_result"
    }
   ],
   "source": [
    "st.binom.pmf(k=4,n=10,p=0.551)"
   ]
  },
  {
   "cell_type": "code",
   "execution_count": 10,
   "metadata": {},
   "outputs": [
    {
     "name": "stdout",
     "output_type": "stream",
     "text": [
      "0.9747052073483994\n"
     ]
    }
   ],
   "source": [
    "x1 = st.binom.pmf(k=3,n=11,p=0.517) + st.binom.pmf(k=4,n=11,p=0.517) + st.binom.pmf(k=5,n=11,p=0.517) + st.binom.pmf(k=6,n=11,p=0.517)+ st.binom.pmf(k=7,n=11,p=0.517)+ st.binom.pmf(k=8,n=11,p=0.517)+ st.binom.pmf(k=9,n=11,p=0.517)+ st.binom.pmf(k=10,n=11,p=0.517)+ st.binom.pmf(k=11,n=11,p=0.517)\n",
    "print(x1)"
   ]
  },
  {
   "cell_type": "code",
   "execution_count": 13,
   "metadata": {},
   "outputs": [
    {
     "name": "stdout",
     "output_type": "stream",
     "text": [
      "0.2655967131266597\n"
     ]
    }
   ],
   "source": [
    "x2 = st.binom.pmf(k=3,n=13,p=0.506) + st.binom.pmf(k=4,n=13,p=0.506) + st.binom.pmf(k=5,n=13,p=0.506)\n",
    "print(x2)"
   ]
  },
  {
   "cell_type": "code",
   "execution_count": 23,
   "metadata": {},
   "outputs": [
    {
     "name": "stdout",
     "output_type": "stream",
     "text": [
      "7.800000000000001\n",
      "1.9349418595916519\n"
     ]
    }
   ],
   "source": [
    "p = 0.520 * 15\n",
    "print(p)\n",
    "\n",
    "dp = np.sqrt(15 * 0.520 * (1 - 0.520))\n",
    "print(dp)"
   ]
  },
  {
   "cell_type": "code",
   "execution_count": 26,
   "metadata": {},
   "outputs": [
    {
     "name": "stdout",
     "output_type": "stream",
     "text": [
      "0.03211885948496784\n"
     ]
    }
   ],
   "source": [
    "x5 = 1 - st.binom.cdf(k=14,n=77,p=0.117)\n",
    "print(x5)"
   ]
  }
 ],
 "metadata": {
  "kernelspec": {
   "display_name": ".venv",
   "language": "python",
   "name": "python3"
  },
  "language_info": {
   "codemirror_mode": {
    "name": "ipython",
    "version": 3
   },
   "file_extension": ".py",
   "mimetype": "text/x-python",
   "name": "python",
   "nbconvert_exporter": "python",
   "pygments_lexer": "ipython3",
   "version": "3.9.6"
  },
  "orig_nbformat": 4
 },
 "nbformat": 4,
 "nbformat_minor": 2
}
