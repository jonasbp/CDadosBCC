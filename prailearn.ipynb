{
 "cells": [
  {
   "cell_type": "code",
   "execution_count": 29,
   "metadata": {},
   "outputs": [
    {
     "name": "stdout",
     "output_type": "stream",
     "text": [
      "186.11280000000002\n",
      "4162.02647616\n",
      "64.5137696632277\n"
     ]
    }
   ],
   "source": [
    "p_cinema = 0.65\n",
    "gasto_cinema = 67\n",
    "\n",
    "p_teatro = 1 - p_cinema\n",
    "gasto_teatro = 195\n",
    "\n",
    "p_jantar_dado_cinema = 0.77\n",
    "gasto_cinema_e_jantar = 136\n",
    "p_nao_jantar_dado_cinema = 1 - p_jantar_dado_cinema\n",
    "\n",
    "p_jantar_dado_teatro = 0.33\n",
    "gasto_teatro_e_jantar = 136\n",
    "p_nao_jantar_dado_teatro = 1 - p_jantar_dado_teatro\n",
    "\n",
    "#Fazendo a esperanca com esses valores (GASTO MÉDIO)\n",
    "# INTERCE P CINEMA - PJANTARCINEMA -. PCINEMA - PNAOJANTARCINEMA\n",
    "\n",
    "esperanca = ((p_cinema * p_jantar_dado_cinema) * (gasto_cinema + gasto_cinema_e_jantar)) + ((p_cinema * p_nao_jantar_dado_cinema) * (gasto_cinema)) + ((p_teatro * p_jantar_dado_teatro) * (gasto_teatro + gasto_teatro_e_jantar)) + ((p_teatro * p_nao_jantar_dado_teatro) * (gasto_teatro))\n",
    "\n",
    "variancia = ((p_cinema * p_jantar_dado_cinema) * (((gasto_cinema + gasto_cinema_e_jantar) - esperanca) ** 2)) + ((p_cinema * p_nao_jantar_dado_cinema) * ((gasto_cinema - esperanca) ** 2) +\n",
    "((p_teatro * p_jantar_dado_teatro) * (((gasto_teatro + gasto_teatro_e_jantar) - esperanca) ** 2))) + ((p_teatro * p_nao_jantar_dado_teatro) * ((gasto_teatro - esperanca) ** 2))\n",
    "\n",
    "desvio_padrao = variancia ** 0.5\n",
    "print(esperanca)\n",
    "print(variancia)\n",
    "print(desvio_padrao)\n"
   ]
  },
  {
   "cell_type": "code",
   "execution_count": 30,
   "metadata": {},
   "outputs": [
    {
     "name": "stdout",
     "output_type": "stream",
     "text": [
      "172.57926400000002\n"
     ]
    }
   ],
   "source": [
    "aumento = 10\n",
    "reducao_porcent = 0.12\n",
    "esperanca_nova = (esperanca + 10) - ((esperanca + 10)* 0.12)\n",
    "print(esperanca_nova)"
   ]
  },
  {
   "cell_type": "code",
   "execution_count": null,
   "metadata": {},
   "outputs": [],
   "source": []
  }
 ],
 "metadata": {
  "kernelspec": {
   "display_name": ".venv",
   "language": "python",
   "name": "python3"
  },
  "language_info": {
   "codemirror_mode": {
    "name": "ipython",
    "version": 3
   },
   "file_extension": ".py",
   "mimetype": "text/x-python",
   "name": "python",
   "nbconvert_exporter": "python",
   "pygments_lexer": "ipython3",
   "version": "3.10.9"
  },
  "orig_nbformat": 4
 },
 "nbformat": 4,
 "nbformat_minor": 2
}
