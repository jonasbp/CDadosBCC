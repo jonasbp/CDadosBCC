{
 "cells": [
  {
   "cell_type": "markdown",
   "metadata": {},
   "source": [
    "BRINCANDO COM PANDAS E ENTENDENDO COMO TUDO FUNCIONA"
   ]
  },
  {
   "cell_type": "markdown",
   "metadata": {},
   "source": [
    "IMPORTANDO UM CSV\n",
    "\n",
    "SEP -> Separador no arquivo\n",
    "\n",
    "DECIMAL -> Modo como o decimal é usado no arquivo\n",
    "\n",
    "SKIP ROWS -> Colunas para pular antes de chegar nos dados"
   ]
  },
  {
   "cell_type": "code",
   "execution_count": null,
   "metadata": {},
   "outputs": [],
   "source": [
    "df_2001 = pd.read_csv('dados/INMET/2001/INMET_CO_DF_A001_BRASILIA_01-01-2001_A_31-12-2001.CSV', sep=';', encoding='latin1', decimal=',', skiprows=8)"
   ]
  },
  {
   "cell_type": "markdown",
   "metadata": {},
   "source": [
    "COLUNAS -> SERIES (Possuem Labels)"
   ]
  },
  {
   "cell_type": "markdown",
   "metadata": {},
   "source": []
  }
 ],
 "metadata": {
  "language_info": {
   "name": "python"
  },
  "orig_nbformat": 4
 },
 "nbformat": 4,
 "nbformat_minor": 2
}
